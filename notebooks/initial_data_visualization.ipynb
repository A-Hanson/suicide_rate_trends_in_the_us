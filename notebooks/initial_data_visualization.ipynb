{
 "cells": [
  {
   "cell_type": "code",
   "execution_count": 1,
   "metadata": {},
   "outputs": [],
   "source": [
    "import pandas as pd\n",
    "import numpy as np\n",
    "import scipy.stats as stats\n",
    "import matplotlib.pyplot as plt\n"
   ]
  },
  {
   "cell_type": "code",
   "execution_count": 2,
   "metadata": {},
   "outputs": [],
   "source": [
    "three_county_df = pd.read_excel('../data/suicide_occurances_15_19_edited.xlsx', index_col=0)\n",
    "us_mortality_df = pd.read_csv('../data/NCHS_Injury_Mortality_United_States.csv')\n",
    "co_county_df = pd.read_csv('../data/Suicide_Mortality_Rate_CO_Counties_.csv')"
   ]
  },
  {
   "cell_type": "code",
   "execution_count": 3,
   "metadata": {},
   "outputs": [
    {
     "data": {
      "text/html": [
       "<div>\n",
       "<style scoped>\n",
       "    .dataframe tbody tr th:only-of-type {\n",
       "        vertical-align: middle;\n",
       "    }\n",
       "\n",
       "    .dataframe tbody tr th {\n",
       "        vertical-align: top;\n",
       "    }\n",
       "\n",
       "    .dataframe thead th {\n",
       "        text-align: right;\n",
       "    }\n",
       "</style>\n",
       "<table border=\"1\" class=\"dataframe\">\n",
       "  <thead>\n",
       "    <tr style=\"text-align: right;\">\n",
       "      <th></th>\n",
       "      <th>Year</th>\n",
       "      <th>Deaths</th>\n",
       "      <th>Population</th>\n",
       "      <th>Age Specific Rate</th>\n",
       "      <th>Age Specific Rate Standard Error</th>\n",
       "      <th>Age Specific Rate Lower Confidence Limit</th>\n",
       "      <th>Age Specific Rate Upper Confidence Limit</th>\n",
       "    </tr>\n",
       "  </thead>\n",
       "  <tbody>\n",
       "    <tr>\n",
       "      <th>count</th>\n",
       "      <td>98280.000000</td>\n",
       "      <td>98280.000000</td>\n",
       "      <td>9.828000e+04</td>\n",
       "      <td>98280.000000</td>\n",
       "      <td>80093.000000</td>\n",
       "      <td>98280.000000</td>\n",
       "      <td>98280.000000</td>\n",
       "    </tr>\n",
       "    <tr>\n",
       "      <th>mean</th>\n",
       "      <td>2007.500000</td>\n",
       "      <td>1030.300346</td>\n",
       "      <td>2.792145e+07</td>\n",
       "      <td>4.144323</td>\n",
       "      <td>0.178736</td>\n",
       "      <td>3.872784</td>\n",
       "      <td>4.461783</td>\n",
       "    </tr>\n",
       "    <tr>\n",
       "      <th>std</th>\n",
       "      <td>5.188154</td>\n",
       "      <td>5654.431217</td>\n",
       "      <td>4.615604e+07</td>\n",
       "      <td>14.839778</td>\n",
       "      <td>0.385711</td>\n",
       "      <td>14.386794</td>\n",
       "      <td>15.305750</td>\n",
       "    </tr>\n",
       "    <tr>\n",
       "      <th>min</th>\n",
       "      <td>1999.000000</td>\n",
       "      <td>0.000000</td>\n",
       "      <td>2.381630e+05</td>\n",
       "      <td>0.000000</td>\n",
       "      <td>0.000311</td>\n",
       "      <td>0.000000</td>\n",
       "      <td>0.000000</td>\n",
       "    </tr>\n",
       "    <tr>\n",
       "      <th>25%</th>\n",
       "      <td>2003.000000</td>\n",
       "      <td>2.000000</td>\n",
       "      <td>4.841440e+06</td>\n",
       "      <td>0.018200</td>\n",
       "      <td>0.022286</td>\n",
       "      <td>0.002576</td>\n",
       "      <td>0.050011</td>\n",
       "    </tr>\n",
       "    <tr>\n",
       "      <th>50%</th>\n",
       "      <td>2007.500000</td>\n",
       "      <td>26.000000</td>\n",
       "      <td>1.204773e+07</td>\n",
       "      <td>0.244084</td>\n",
       "      <td>0.061702</td>\n",
       "      <td>0.145650</td>\n",
       "      <td>0.396250</td>\n",
       "    </tr>\n",
       "    <tr>\n",
       "      <th>75%</th>\n",
       "      <td>2012.000000</td>\n",
       "      <td>235.000000</td>\n",
       "      <td>2.956510e+07</td>\n",
       "      <td>1.828186</td>\n",
       "      <td>0.169559</td>\n",
       "      <td>1.546272</td>\n",
       "      <td>2.166448</td>\n",
       "    </tr>\n",
       "    <tr>\n",
       "      <th>max</th>\n",
       "      <td>2016.000000</td>\n",
       "      <td>231991.000000</td>\n",
       "      <td>3.231275e+08</td>\n",
       "      <td>283.918310</td>\n",
       "      <td>8.270687</td>\n",
       "      <td>279.858790</td>\n",
       "      <td>287.977830</td>\n",
       "    </tr>\n",
       "  </tbody>\n",
       "</table>\n",
       "</div>"
      ],
      "text/plain": [
       "               Year         Deaths    Population  Age Specific Rate  \\\n",
       "count  98280.000000   98280.000000  9.828000e+04       98280.000000   \n",
       "mean    2007.500000    1030.300346  2.792145e+07           4.144323   \n",
       "std        5.188154    5654.431217  4.615604e+07          14.839778   \n",
       "min     1999.000000       0.000000  2.381630e+05           0.000000   \n",
       "25%     2003.000000       2.000000  4.841440e+06           0.018200   \n",
       "50%     2007.500000      26.000000  1.204773e+07           0.244084   \n",
       "75%     2012.000000     235.000000  2.956510e+07           1.828186   \n",
       "max     2016.000000  231991.000000  3.231275e+08         283.918310   \n",
       "\n",
       "       Age Specific Rate Standard Error  \\\n",
       "count                      80093.000000   \n",
       "mean                           0.178736   \n",
       "std                            0.385711   \n",
       "min                            0.000311   \n",
       "25%                            0.022286   \n",
       "50%                            0.061702   \n",
       "75%                            0.169559   \n",
       "max                            8.270687   \n",
       "\n",
       "       Age Specific Rate Lower Confidence Limit  \\\n",
       "count                              98280.000000   \n",
       "mean                                   3.872784   \n",
       "std                                   14.386794   \n",
       "min                                    0.000000   \n",
       "25%                                    0.002576   \n",
       "50%                                    0.145650   \n",
       "75%                                    1.546272   \n",
       "max                                  279.858790   \n",
       "\n",
       "       Age Specific Rate Upper Confidence Limit  \n",
       "count                              98280.000000  \n",
       "mean                                   4.461783  \n",
       "std                                   15.305750  \n",
       "min                                    0.000000  \n",
       "25%                                    0.050011  \n",
       "50%                                    0.396250  \n",
       "75%                                    2.166448  \n",
       "max                                  287.977830  "
      ]
     },
     "execution_count": 3,
     "metadata": {},
     "output_type": "execute_result"
    }
   ],
   "source": [
    "us_mortality_df.describe()"
   ]
  },
  {
   "cell_type": "code",
   "execution_count": 4,
   "metadata": {},
   "outputs": [
    {
     "name": "stdout",
     "output_type": "stream",
     "text": [
      "<class 'pandas.core.frame.DataFrame'>\n",
      "RangeIndex: 98280 entries, 0 to 98279\n",
      "Data columns (total 16 columns):\n",
      " #   Column                                    Non-Null Count  Dtype  \n",
      "---  ------                                    --------------  -----  \n",
      " 0   Year                                      98280 non-null  int64  \n",
      " 1   Sex                                       98280 non-null  object \n",
      " 2   Age Group (Years)                         98280 non-null  object \n",
      " 3   Race                                      98280 non-null  object \n",
      " 4   Injury Mechanism                          98280 non-null  object \n",
      " 5   Injury Intent                             98280 non-null  object \n",
      " 6   Deaths                                    98280 non-null  int64  \n",
      " 7   Population                                98280 non-null  int64  \n",
      " 8   Age Specific Rate                         98280 non-null  float64\n",
      " 9   Age Specific Rate Standard Error          80093 non-null  float64\n",
      " 10  Age Specific Rate Lower Confidence Limit  98280 non-null  float64\n",
      " 11  Age Specific Rate Upper Confidence Limit  98280 non-null  float64\n",
      " 12  Age Adjusted Rate                         98280 non-null  object \n",
      " 13  Age Adjusted Rate Standard Error          98280 non-null  object \n",
      " 14  Age Adjusted Rate Lower Confidence Limit  98280 non-null  object \n",
      " 15  Age Adjusted Rate Upper Confidence Limit  98280 non-null  object \n",
      "dtypes: float64(4), int64(3), object(9)\n",
      "memory usage: 12.0+ MB\n"
     ]
    }
   ],
   "source": [
    "us_mortality_df.info()"
   ]
  },
  {
   "cell_type": "code",
   "execution_count": 5,
   "metadata": {},
   "outputs": [
    {
     "data": {
      "text/plain": [
       "array(['All Intentions', 'Suicide', 'Unintentional', 'Undetermined',\n",
       "       'Homicide', 'Legal intervention/war'], dtype=object)"
      ]
     },
     "execution_count": 5,
     "metadata": {},
     "output_type": "execute_result"
    }
   ],
   "source": [
    "us_mortality_df['Injury Intent'].unique()"
   ]
  },
  {
   "cell_type": "code",
   "execution_count": 6,
   "metadata": {},
   "outputs": [
    {
     "name": "stdout",
     "output_type": "stream",
     "text": [
      "<class 'pandas.core.frame.DataFrame'>\n",
      "Int64Index: 16632 entries, 334 to 93743\n",
      "Data columns (total 16 columns):\n",
      " #   Column                                    Non-Null Count  Dtype  \n",
      "---  ------                                    --------------  -----  \n",
      " 0   Year                                      16632 non-null  int64  \n",
      " 1   Sex                                       16632 non-null  object \n",
      " 2   Age Group (Years)                         16632 non-null  object \n",
      " 3   Race                                      16632 non-null  object \n",
      " 4   Injury Mechanism                          16632 non-null  object \n",
      " 5   Injury Intent                             16632 non-null  object \n",
      " 6   Deaths                                    16632 non-null  int64  \n",
      " 7   Population                                16632 non-null  int64  \n",
      " 8   Age Specific Rate                         16632 non-null  float64\n",
      " 9   Age Specific Rate Standard Error          14232 non-null  float64\n",
      " 10  Age Specific Rate Lower Confidence Limit  16632 non-null  float64\n",
      " 11  Age Specific Rate Upper Confidence Limit  16632 non-null  float64\n",
      " 12  Age Adjusted Rate                         16632 non-null  object \n",
      " 13  Age Adjusted Rate Standard Error          16632 non-null  object \n",
      " 14  Age Adjusted Rate Lower Confidence Limit  16632 non-null  object \n",
      " 15  Age Adjusted Rate Upper Confidence Limit  16632 non-null  object \n",
      "dtypes: float64(4), int64(3), object(9)\n",
      "memory usage: 2.2+ MB\n"
     ]
    }
   ],
   "source": [
    "us_suicide_df = us_mortality_df[us_mortality_df['Injury Intent'] == 'Suicide']\n",
    "us_suicide_df.info()"
   ]
  },
  {
   "cell_type": "code",
   "execution_count": 9,
   "metadata": {},
   "outputs": [
    {
     "data": {
      "text/plain": [
       "<bound method NDFrame.tail of        Year         Sex Age Group (Years)       Race Injury Mechanism  \\\n",
       "334    1999  Both sexes              < 15  All races   All Mechanisms   \n",
       "508    2013        Male              < 15  All races   All Mechanisms   \n",
       "985    2012        Male              < 15  All races   All Mechanisms   \n",
       "1322   2009  Both sexes              < 15  All races       Cut/pierce   \n",
       "1455   2011        Male              < 15  All races       Cut/pierce   \n",
       "...     ...         ...               ...        ...              ...   \n",
       "93739  2003      Female               75+   Hispanic      Unspecified   \n",
       "93740  2002      Female               75+   Hispanic      Unspecified   \n",
       "93741  2001      Female               75+   Hispanic      Unspecified   \n",
       "93742  2000      Female               75+   Hispanic      Unspecified   \n",
       "93743  1999      Female               75+   Hispanic      Unspecified   \n",
       "\n",
       "      Injury Intent  Deaths  Population  Age Specific Rate  \\\n",
       "334         Suicide     244    59955378           0.406969   \n",
       "508         Suicide     252    31213915           0.807332   \n",
       "985         Suicide     226    31242542           0.723373   \n",
       "1322        Suicide       0    61087581           0.000000   \n",
       "1455        Suicide       0    31270717           0.000000   \n",
       "...             ...     ...         ...                ...   \n",
       "93739       Suicide       0      488417           0.000000   \n",
       "93740       Suicide       0      460962           0.000000   \n",
       "93741       Suicide       0      435880           0.000000   \n",
       "93742       Suicide       0      403973           0.000000   \n",
       "93743       Suicide       0      384422           0.000000   \n",
       "\n",
       "       Age Specific Rate Standard Error  \\\n",
       "334                            0.026054   \n",
       "508                            0.050857   \n",
       "985                            0.048118   \n",
       "1322                                NaN   \n",
       "1455                                NaN   \n",
       "...                                 ...   \n",
       "93739                               NaN   \n",
       "93740                               NaN   \n",
       "93741                               NaN   \n",
       "93742                               NaN   \n",
       "93743                               NaN   \n",
       "\n",
       "       Age Specific Rate Lower Confidence Limit  \\\n",
       "334                                    0.355904   \n",
       "508                                    0.707652   \n",
       "985                                    0.629061   \n",
       "1322                                   0.000000   \n",
       "1455                                   0.000000   \n",
       "...                                         ...   \n",
       "93739                                  0.000000   \n",
       "93740                                  0.000000   \n",
       "93741                                  0.000000   \n",
       "93742                                  0.000000   \n",
       "93743                                  0.000000   \n",
       "\n",
       "       Age Specific Rate Upper Confidence Limit Age Adjusted Rate  \\\n",
       "334                                    0.458034                     \n",
       "508                                    0.907012                     \n",
       "985                                    0.817684                     \n",
       "1322                                   0.000000                     \n",
       "1455                                   0.000000                     \n",
       "...                                         ...               ...   \n",
       "93739                                  0.000000                     \n",
       "93740                                  0.000000                     \n",
       "93741                                  0.000000                     \n",
       "93742                                  0.000000                     \n",
       "93743                                  0.000000                     \n",
       "\n",
       "      Age Adjusted Rate Standard Error  \\\n",
       "334                                      \n",
       "508                                      \n",
       "985                                      \n",
       "1322                                     \n",
       "1455                                     \n",
       "...                                ...   \n",
       "93739                                    \n",
       "93740                                    \n",
       "93741                                    \n",
       "93742                                    \n",
       "93743                                    \n",
       "\n",
       "      Age Adjusted Rate Lower Confidence Limit  \\\n",
       "334                                              \n",
       "508                                              \n",
       "985                                              \n",
       "1322                                             \n",
       "1455                                             \n",
       "...                                        ...   \n",
       "93739                                            \n",
       "93740                                            \n",
       "93741                                            \n",
       "93742                                            \n",
       "93743                                            \n",
       "\n",
       "      Age Adjusted Rate Upper Confidence Limit  \n",
       "334                                             \n",
       "508                                             \n",
       "985                                             \n",
       "1322                                            \n",
       "1455                                            \n",
       "...                                        ...  \n",
       "93739                                           \n",
       "93740                                           \n",
       "93741                                           \n",
       "93742                                           \n",
       "93743                                           \n",
       "\n",
       "[16632 rows x 16 columns]>"
      ]
     },
     "execution_count": 9,
     "metadata": {},
     "output_type": "execute_result"
    }
   ],
   "source": [
    "#us_suicide_df['Year'][:20]\n",
    "#us_suicide_df['Age Group (Years)'].unique()\n",
    "us_suicide_df.tail"
   ]
  },
  {
   "cell_type": "code",
   "execution_count": 8,
   "metadata": {},
   "outputs": [
    {
     "data": {
      "text/plain": [
       "array([1999, 2013, 2012, 2009, 2011, 2010, 2008, 2016, 2015, 2014, 2007,\n",
       "       2006, 2005, 2004, 2003, 2002, 2001, 2000])"
      ]
     },
     "execution_count": 8,
     "metadata": {},
     "output_type": "execute_result"
    }
   ],
   "source": [
    "us_suicide_df['Year'].unique()"
   ]
  },
  {
   "cell_type": "code",
   "execution_count": 7,
   "metadata": {},
   "outputs": [
    {
     "data": {
      "image/png": "[encoded data removed]",
      "text/plain": [
       "<Figure size 720x720 with 2 Axes>"
      ]
     },
     "metadata": {
      "needs_background": "light"
     },
     "output_type": "display_data"
    }
   ],
   "source": [
    "us_suicide_m_df = us_suicide_df[us_suicide_df['Sex'] == 'Male']\n",
    "us_suicide_fm_df = us_suicide_df[us_suicide_df['Sex'] == 'Female']\n",
    "\n",
    "fig, axs = plt.subplots(1,2, figsize=(10,10))\n",
    "axs[0].scatter(us_suicide_m_df['Year'], us_suicide_m_df['Deaths'], c='blue')\n",
    "axs[0].scatter(us_suicide_fm_df['Year'], us_suicide_fm_df['Deaths'], c='pink')\n",
    "axs[1].scatter(us_suicide_df['Sex'], us_suicide_df['Deaths'])\n",
    "\n",
    "plt.tight_layout()"
   ]
  },
  {
   "cell_type": "code",
   "execution_count": 13,
   "metadata": {},
   "outputs": [
    {
     "data": {
      "text/plain": [
       "<bound method Series.unique of 0        2016\n",
       "1        2015\n",
       "2        2014\n",
       "3        2013\n",
       "4        2012\n",
       "         ... \n",
       "98275    2003\n",
       "98276    2002\n",
       "98277    2001\n",
       "98278    2000\n",
       "98279    1999\n",
       "Name: Year, Length: 98280, dtype: int64>"
      ]
     },
     "execution_count": 13,
     "metadata": {},
     "output_type": "execute_result"
    }
   ],
   "source": [
    "year_labels = ['2000', '2001', '2002', '2003', '2004', '2005', '2006', '2007', '2008', '2000', '2010', '2011', '2012', '2013', '2014', '2015', '2016']\n",
    "mens = us_suicide_m_df['']\n",
    "us_suicide_fm_df\n",
    "\n",
    "fig, ax = plt.subplots()\n",
    "rects1 = ax.bar(x - width/2, men_means, width, label='Men')\n",
    "rects2 = ax.bar(x + width/2, women_means, width, label='Women')"
   ]
  },
  {
   "cell_type": "code",
   "execution_count": null,
   "metadata": {},
   "outputs": [],
   "source": []
  }
 ],
 "metadata": {
  "kernelspec": {
   "display_name": "Python 3",
   "language": "python",
   "name": "python3"
  },
  "language_info": {
   "codemirror_mode": {
    "name": "ipython",
    "version": 3
   },
   "file_extension": ".py",
   "mimetype": "text/x-python",
   "name": "python",
   "nbconvert_exporter": "python",
   "pygments_lexer": "ipython3",
   "version": "3.7.6"
  }
 },
 "nbformat": 4,
 "nbformat_minor": 4
}
